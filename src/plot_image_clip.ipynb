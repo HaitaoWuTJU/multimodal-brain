{
 "cells": [
  {
   "cell_type": "code",
   "execution_count": 2,
   "metadata": {},
   "outputs": [],
   "source": [
    "import torch\n",
    "from torch.utils.data import DataLoader\n",
    "import open_clip\n",
    "\n",
    "from sklearn.manifold import TSNE\n",
    "from tqdm import tqdm\n",
    "import matplotlib.pyplot as plt\n",
    "import numpy as np\n",
    "import itertools\n",
    "import seaborn as sns\n",
    "import pandas as pd\n",
    "\n",
    "from imagedatasets_v1_1 import ThingsDataset\n",
    "\n",
    "device = torch.device('cuda' if torch.cuda.is_available() else 'cpu')"
   ]
  },
  {
   "cell_type": "code",
   "execution_count": null,
   "metadata": {},
   "outputs": [],
   "source": [
    "vlmodel, preprocess, _ = open_clip.create_model_and_transforms('ViT-H-14', pretrained='laion2b_s32b_b79k', precision='fp32', device = device)"
   ]
  },
  {
   "cell_type": "code",
   "execution_count": null,
   "metadata": {},
   "outputs": [],
   "source": [
    "train_dataset = ThingsDataset(data_root='/root/workspace/wht/multimodal_brain/datasets/things-eeg-small/Image_set',mode='train')\n",
    "test_dataset = ThingsDataset(data_root='/root/workspace/wht/multimodal_brain/datasets/things-eeg-small/Image_set',mode='test')\n",
    "\n",
    "train_dataloader = DataLoader(train_dataset, batch_size=128, shuffle=False)\n",
    "test_dataloader = DataLoader(test_dataset, batch_size=128, shuffle=False)"
   ]
  },
  {
   "cell_type": "code",
   "execution_count": null,
   "metadata": {},
   "outputs": [],
   "source": [
    "all_features = []\n",
    "all_labels = []\n",
    "\n",
    "for i,batch in tqdm(enumerate(test_dataloader)):\n",
    "    images, labels = batch\n",
    "    images = images.to(device)\n",
    "    with torch.no_grad():\n",
    "        image_features = vlmodel.encode_image(images)\n",
    "    image_features = image_features / image_features.norm(dim=-1, keepdim=True)\n",
    "    all_features.append(image_features.cpu())\n",
    "    all_labels.append(labels)\n",
    "all_features = torch.cat(all_features, dim=0)\n",
    "all_labels = [list(ele) for ele in all_labels] \n",
    "flattened_list = list(itertools.chain.from_iterable(all_labels))\n",
    "save_dict = {\n",
    "    'features': all_features,\n",
    "    'labels': flattened_list\n",
    "}\n",
    "torch.save(save_dict, 'test_image_features.pt')"
   ]
  },
  {
   "cell_type": "code",
   "execution_count": 3,
   "metadata": {},
   "outputs": [],
   "source": [
    "train_data = torch.load('train_image_features.pt')\n",
    "train_features = train_data['features']\n",
    "train_labels = [0 for i in range(len(train_features))]\n",
    "\n",
    "test_data = torch.load('test_image_features.pt')\n",
    "test_features = test_data['features']\n",
    "test_labels = [1 for i in range(len(test_features))]\n",
    "\n",
    "all_features = torch.cat((train_features, test_features), dim=0)\n",
    "all_labels = train_labels + test_labels"
   ]
  },
  {
   "cell_type": "code",
   "execution_count": 4,
   "metadata": {},
   "outputs": [],
   "source": [
    "tsne = TSNE(n_components=2, random_state=0)\n",
    "features_np = all_features.numpy()\n",
    "features_2d = tsne.fit_transform(features_np)"
   ]
  },
  {
   "cell_type": "code",
   "execution_count": null,
   "metadata": {},
   "outputs": [],
   "source": [
    "df = pd.DataFrame(features_2d, columns=['t-SNE Component 1', 't-SNE Component 2'])\n",
    "df['Label'] = all_labels\n",
    "plt.figure(figsize=(10, 10),dpi = 400)\n",
    "sns.scatterplot(x='t-SNE Component 1', y='t-SNE Component 2', hue='Label', data=df, \n",
    "                palette='viridis', alpha=0.6, legend='full', s=50)  # s 控制点的大小\n",
    "plt.title('t-SNE Visualization of Image Features')\n",
    "plt.xlabel('t-SNE Component 1')\n",
    "plt.ylabel('t-SNE Component 2')\n",
    "plt.legend(title='Categories')\n",
    "plt.savefig('t-SNE_Visualization.png', format='png')"
   ]
  }
 ],
 "metadata": {
  "kernelspec": {
   "display_name": "base",
   "language": "python",
   "name": "python3"
  },
  "language_info": {
   "codemirror_mode": {
    "name": "ipython",
    "version": 3
   },
   "file_extension": ".py",
   "mimetype": "text/x-python",
   "name": "python",
   "nbconvert_exporter": "python",
   "pygments_lexer": "ipython3",
   "version": "3.8.8"
  }
 },
 "nbformat": 4,
 "nbformat_minor": 2
}
