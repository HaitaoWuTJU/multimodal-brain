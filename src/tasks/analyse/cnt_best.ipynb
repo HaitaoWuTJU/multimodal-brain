{
 "cells": [
  {
   "cell_type": "code",
   "execution_count": 6,
   "metadata": {},
   "outputs": [
    {
     "name": "stdout",
     "output_type": "stream",
     "text": [
      "The best test_top1_acc is 0.6499999761581421 in file /home/wht/multimodal_brain/src/tasks/exp/dynamic_blur/['sub-08']_[10, 15]_[4, 9]/test_results.json\n"
     ]
    }
   ],
   "source": [
    "import os\n",
    "import json\n",
    "\n",
    "def find_best_test_top1_acc(exp_dir):\n",
    "    best_acc = -1\n",
    "    best_file = None\n",
    "\n",
    "    # 遍历exp_dir目录下的所有子文件夹和文件\n",
    "    for root, dirs, files in os.walk(exp_dir):\n",
    "        if 'test_results.json' in files:\n",
    "            file_path = os.path.join(root, 'test_results.json')\n",
    "            try:\n",
    "                with open(file_path, 'r') as f:\n",
    "                    data = json.load(f)[0]\n",
    "                    # 假设json文件中有一个\"test_top1_acc\"字段\n",
    "                    test_top1_acc = data.get('test_top1_acc', -1)\n",
    "                    if test_top1_acc > best_acc:\n",
    "                        best_acc = test_top1_acc\n",
    "                        best_file = file_path\n",
    "            except Exception as e:\n",
    "                print(f\"Error reading {file_path}: {e}\")\n",
    "    \n",
    "    return best_file, best_acc\n",
    "\n",
    "# 使用示例\n",
    "exp_dir = '/home/wht/multimodal_brain/src/tasks/exp/dynamic_blur'\n",
    "best_file, best_acc = find_best_test_top1_acc(exp_dir)\n",
    "\n",
    "if best_file:\n",
    "    print(f\"The best test_top1_acc is {best_acc} in file {best_file}\")\n",
    "else:\n",
    "    print(\"No valid test_results.json files found.\")\n"
   ]
  }
 ],
 "metadata": {
  "kernelspec": {
   "display_name": "brain",
   "language": "python",
   "name": "python3"
  },
  "language_info": {
   "codemirror_mode": {
    "name": "ipython",
    "version": 3
   },
   "file_extension": ".py",
   "mimetype": "text/x-python",
   "name": "python",
   "nbconvert_exporter": "python",
   "pygments_lexer": "ipython3",
   "version": "3.8.19"
  }
 },
 "nbformat": 4,
 "nbformat_minor": 2
}
