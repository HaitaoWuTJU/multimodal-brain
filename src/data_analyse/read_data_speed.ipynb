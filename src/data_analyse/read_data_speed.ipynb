{
 "cells": [
  {
   "cell_type": "code",
   "execution_count": 2,
   "metadata": {
    "metadata": {}
   },
   "outputs": [],
   "source": [
    "import os,torch,h5py\n",
    "import time\n",
    "import numpy as np"
   ]
  },
  {
   "cell_type": "code",
   "execution_count": 3,
   "metadata": {
    "metadata": {}
   },
   "outputs": [],
   "source": [
    "def trans2h5(pt_file_path):\n",
    "    print(pt_file_path)\n",
    "    data = torch.load(pt_file_path)\n",
    "    hdf5_file_path = pt_file_path.replace('.pt','.h5')\n",
    "    with h5py.File(hdf5_file_path, 'w') as h5_file:\n",
    "        for key, value in data.items():\n",
    "            print(key)\n",
    "            if key in ['img','text']:\n",
    "                value = value.astype('S80')\n",
    "            elif key == 'ch_names':\n",
    "                value =np.array(data['ch_names'],dtype='S4')\n",
    "            if isinstance(value, torch.Tensor):\n",
    "                h5_file.create_dataset(key, data=value.numpy())\n",
    "            elif isinstance(value, (int, float, str, np.ndarray)):\n",
    "                h5_file.create_dataset(key, data=value)\n",
    "            else:\n",
    "                raise TypeError(f\"Unsupported data type: {type(value)}\")\n",
    "# trans2h5('/root/workspace/wht/multimodal_brain/datasets/things-eeg-small/Preprocessed_data_250Hz/sub-08/train.pt')\n",
    "# trans2h5('/root/workspace/wht/multimodal_brain/datasets/things-eeg-small/Preprocessed_data_250Hz/sub-08/test.pt')"
   ]
  },
  {
   "cell_type": "code",
   "execution_count": 4,
   "metadata": {
    "metadata": {}
   },
   "outputs": [],
   "source": [
    "def test_speed(data_dir,read_type,repeat=500):\n",
    "    for mode in ['train','test']:\n",
    "        pt_path = os.path.join(data_dir,f'{mode}.pt')\n",
    "        hdf5_file_path = pt_path.replace('.pt','.h5')\n",
    "        if read_type=='pt':\n",
    "            data = torch.load(pt_path)\n",
    "        else:\n",
    "            data = h5py.File(hdf5_file_path, 'r+')\n",
    "        keys = list(data.keys())\n",
    "        key='eeg'\n",
    "        _ = data[key][:]\n",
    "        length = len(_)\n",
    "        indices = np.arange(length)\n",
    "        np.random.shuffle(indices)\n",
    "        for i in indices:\n",
    "            d = _[i]"
   ]
  },
  {
   "cell_type": "code",
   "execution_count": 5,
   "metadata": {
    "metadata": {}
   },
   "outputs": [
    {
     "name": "stdout",
     "output_type": "stream",
     "text": [
      "代码运行时间: 30.2541 秒\n",
      "代码运行时间: 29.6536 秒\n",
      "代码运行时间: 31.7917 秒\n"
     ]
    }
   ],
   "source": [
    "data_dirs =[]\n",
    "\n",
    "#float64 87\n",
    "#float32 15.5136,11.8792,19.3747\n",
    "#float16 3.1612 2.9807 2.9229\n",
    "#10 9.15 8.60\n",
    "#29.1 30.0 244\n",
    "data_dirs.append('/root/datasets/things-eeg-small/Preprocessed_data_250Hz')\n",
    "data_dirs.append('/dev/shm/datasets/things-eeg-small/Preprocessed_data_250Hz')\n",
    "data_dirs.append('/root/workspace/wht/multimodal_brain/datasets/things-eeg-small/Preprocessed_data_250Hz') \n",
    "\n",
    "for data_dir in data_dirs:\n",
    "    start_time = time.time()\n",
    "    for i in range(10):\n",
    "        for mode in ['train','test']:\n",
    "            pt_path = os.path.join(data_dir,'sub-08',f'{mode}.pt')\n",
    "            data = torch.load(pt_path)\n",
    "    end_time = time.time()\n",
    "    elapsed_time = end_time - start_time\n",
    "    print(f\"代码运行时间: {elapsed_time:.4f} 秒\")"
   ]
  }
 ],
 "metadata": {
  "kernelspec": {
   "display_name": "base",
   "language": "python",
   "name": "python3"
  },
  "language_info": {
   "codemirror_mode": {
    "name": "ipython",
    "version": 3
   },
   "file_extension": ".py",
   "mimetype": "text/x-python",
   "name": "python",
   "nbconvert_exporter": "python",
   "pygments_lexer": "ipython3",
   "version": "3.8.8"
  }
 },
 "nbformat": 4,
 "nbformat_minor": 2
}
