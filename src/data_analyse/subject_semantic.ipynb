{
 "cells": [
  {
   "cell_type": "code",
   "execution_count": 14,
   "metadata": {
    "metadata": {}
   },
   "outputs": [],
   "source": [
    "import logging,os,sys\n",
    "from torch.utils.data import Dataset, DataLoader\n",
    "sys.path.append('/root/workspace/wht/multimodal_brain/src')\n",
    "from dataset.things_eeg import EEGDataset # type: ignore\n",
    "import torch\n",
    "from models.mlp import MLP,ProjectLayer,Direct\n",
    "from scipy.spatial.distance import cdist\n",
    "import numpy as np"
   ]
  },
  {
   "cell_type": "code",
   "execution_count": 3,
   "metadata": {
    "metadata": {}
   },
   "outputs": [
    {
     "name": "stdout",
     "output_type": "stream",
     "text": [
      "----load /root/workspace/wht/multimodal_brain/datasets/things-eeg-small/Preprocessed_data_250Hz_whiten/sub-01/test.pt----\n",
      "----load /root/workspace/wht/multimodal_brain/datasets/things-eeg-small/Preprocessed_data_250Hz_whiten/sub-02/test.pt----\n",
      "----load /root/workspace/wht/multimodal_brain/datasets/things-eeg-small/Preprocessed_data_250Hz_whiten/sub-03/test.pt----\n",
      "----load /root/workspace/wht/multimodal_brain/datasets/things-eeg-small/Preprocessed_data_250Hz_whiten/sub-04/test.pt----\n",
      "----load /root/workspace/wht/multimodal_brain/datasets/things-eeg-small/Preprocessed_data_250Hz_whiten/sub-05/test.pt----\n",
      "----load /root/workspace/wht/multimodal_brain/datasets/things-eeg-small/Preprocessed_data_250Hz_whiten/sub-06/test.pt----\n",
      "----load /root/workspace/wht/multimodal_brain/datasets/things-eeg-small/Preprocessed_data_250Hz_whiten/sub-07/test.pt----\n",
      "----load /root/workspace/wht/multimodal_brain/datasets/things-eeg-small/Preprocessed_data_250Hz_whiten/sub-08/test.pt----\n",
      "----load /root/workspace/wht/multimodal_brain/datasets/things-eeg-small/Preprocessed_data_250Hz_whiten/sub-09/test.pt----\n",
      "----load /root/workspace/wht/multimodal_brain/datasets/things-eeg-small/Preprocessed_data_250Hz_whiten/sub-10/test.pt----\n"
     ]
    }
   ],
   "source": [
    "selected_ch = ['Fp1', 'Fp2', 'AF7', 'AF3', 'AFz', 'AF4', 'AF8', 'F7', 'F5', 'F3',\n",
    "                                            'F1', 'F2', 'F4', 'F6', 'F8', 'FT9', 'FT7', 'FC5', 'FC3', 'FC1', \n",
    "                                            'FCz', 'FC2', 'FC4', 'FC6', 'FT8', 'FT10', 'T7', 'C5', 'C3', 'C1',\n",
    "                                            'Cz', 'C2', 'C4', 'C6', 'T8', 'TP9', 'TP7', 'CP5', 'CP3', 'CP1', \n",
    "                                            'CPz', 'CP2', 'CP4', 'CP6', 'TP8', 'TP10', 'P7', 'P5', 'P3', 'P1',\n",
    "                                            'Pz', 'P2', 'P4', 'P6', 'P8', 'PO7', 'PO3', 'POz', 'PO4', 'PO8',\n",
    "                                            'O1', 'Oz', 'O2']\n",
    "latend_dim = 512\n",
    "config = {\n",
    "    \"data_dir\": \"/root/workspace/wht/multimodal_brain/datasets/things-eeg-small/Preprocessed_data_250Hz_whiten\",#\"/dev/shm/wht/datasets/things-eeg-small/Preprocessed_data_250Hz/\",\n",
    "    \"exp_root\":'./exp',\n",
    "    \"name\": 'subject_semantic',\n",
    "    \"device\": torch.device(\"cuda:0\" if torch.cuda.is_available() else \"cpu\"),\n",
    "    \"lr\": 1e-4,\n",
    "    \"epochs\": 100,\n",
    "    \"batch_size\": 1024,\n",
    "    \"model_type\":'ViT-B-32', #ViT-bigG-14,ViT-H-14\n",
    "    \"logger\": True,\n",
    "    \"subjects\":['sub-01','sub-02','sub-03', 'sub-04', 'sub-05', 'sub-06', 'sub-07', 'sub-08', 'sub-09', 'sub-10'],\n",
    "    \"eeg_model\":{'name':'MLP','args':{'input_dim':len(selected_ch)*250,'output_dim':latend_dim,'hiden_dims':[512]}},#{'name':'LSTMModel', 'args':{}},\n",
    "    \"img_model\": {'name':'Direct','args':{}},  # {'name':'ProjectLayer', 'args':{'embedding_dim':1024, 'proj_dim':1024}},\n",
    "    \"text_model\": {'name':'Direct','args':{}},  # {'name':'ProjectLayer', 'args':{'embedding_dim':1024, 'proj_dim':1024}},\n",
    "}\n",
    "test_dataset = EEGDataset(data_dir=config['data_dir'],subjects=config['subjects'],model_type=config['model_type'],mode='test',transform=None,avg=True)\n",
    "\n",
    "logging.info(f\"test num: {len(test_dataset)}\")\n",
    "test_loader = DataLoader(test_dataset, batch_size=200, shuffle=False, drop_last=False,num_workers=4)\n",
    "data={\n",
    "    'test':test_loader\n",
    "}"
   ]
  },
  {
   "cell_type": "code",
   "execution_count": 4,
   "metadata": {
    "metadata": {}
   },
   "outputs": [
    {
     "data": {
      "text/plain": [
       "<All keys matched successfully>"
      ]
     },
     "execution_count": 4,
     "metadata": {},
     "output_type": "execute_result"
    }
   ],
   "source": [
    "eeg_model = globals()[config['eeg_model']['name']](**config['eeg_model']['args'])\n",
    "eeg_model.to(config['device'])\n",
    "logging.info(f'eeg_model:{eeg_model}')\n",
    "eeg_model.load_state_dict(torch.load(os.path.join('../',config['exp_root'],'train_multi_subject',f\"ckpt_{'_'.join(config['subjects'])}.pth\"),map_location=config['device'])['eeg'])"
   ]
  },
  {
   "cell_type": "code",
   "execution_count": 12,
   "metadata": {
    "metadata": {}
   },
   "outputs": [
    {
     "data": {
      "text/plain": [
       "torch.Size([200, 512])"
      ]
     },
     "execution_count": 12,
     "metadata": {},
     "output_type": "execute_result"
    }
   ],
   "source": [
    "# \n",
    "i = 0\n",
    "eeg = test_dataset.loaded_data[i]['eeg']\n",
    "eeg = eeg.to(config['device']).to(torch.float32)\n",
    "\n",
    "latent = eeg_model(eeg)\n",
    "latent.shape"
   ]
  },
  {
   "cell_type": "code",
   "execution_count": 13,
   "metadata": {
    "metadata": {}
   },
   "outputs": [
    {
     "name": "stdout",
     "output_type": "stream",
     "text": [
      "(200, 200)\n"
     ]
    }
   ],
   "source": [
    "latent_np = latent.cpu().detach().numpy()\n",
    "distance_matrix = cdist(latent_np, latent_np, metric='euclidean')\n",
    "print(distance_matrix.shape)"
   ]
  },
  {
   "cell_type": "code",
   "execution_count": 16,
   "metadata": {
    "metadata": {}
   },
   "outputs": [
    {
     "name": "stdout",
     "output_type": "stream",
     "text": [
      "11.781839204052341\n"
     ]
    }
   ],
   "source": [
    "average_distance = np.mean(distance_matrix)\n",
    "print(average_distance)"
   ]
  },
  {
   "cell_type": "code",
   "execution_count": 32,
   "metadata": {
    "metadata": {}
   },
   "outputs": [
    {
     "name": "stdout",
     "output_type": "stream",
     "text": [
      "(10, 200, 512)\n",
      "9.604742810417926\n"
     ]
    }
   ],
   "source": [
    "_ = []\n",
    "for i in range(10):\n",
    "    eeg = test_dataset.loaded_data[i]['eeg']\n",
    "    eeg = eeg.to(config['device']).to(torch.float32)\n",
    "    \n",
    "    latent = eeg_model(eeg) \n",
    "    \n",
    "    latent = latent.unsqueeze(0)\n",
    "    _.append(latent.cpu().detach().numpy())\n",
    "\n",
    "_ = np.concatenate(_)\n",
    "print(_.shape)\n",
    "\n",
    "avg = []\n",
    "for index in range(200):\n",
    "    l = _[:,index]\n",
    "    distance_matrix = cdist(l, l, metric='euclidean')\n",
    "    average_distance = np.mean(distance_matrix)\n",
    "    avg.append(average_distance)\n",
    "print(np.mean(avg))"
   ]
  }
 ],
 "metadata": {
  "kernelspec": {
   "display_name": "base",
   "language": "python",
   "name": "python3"
  },
  "language_info": {
   "codemirror_mode": {
    "name": "ipython",
    "version": 3
   },
   "file_extension": ".py",
   "mimetype": "text/x-python",
   "name": "python",
   "nbconvert_exporter": "python",
   "pygments_lexer": "ipython3",
   "version": "3.8.8"
  }
 },
 "nbformat": 4,
 "nbformat_minor": 2
}
